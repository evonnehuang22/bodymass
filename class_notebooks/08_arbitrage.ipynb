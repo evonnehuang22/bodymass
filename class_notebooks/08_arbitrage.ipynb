{
  "cells": [
    {
      "cell_type": "markdown",
      "metadata": {
        "id": "_T37DMw9FOS5"
      },
      "source": [
        "# Arbitrage and bond markets"
      ]
    },
    {
      "cell_type": "code",
      "execution_count": 1,
      "metadata": {
        "id": "HuGHAfObFOS-"
      },
      "outputs": [],
      "source": [
        "import pandas as pd\n",
        "import numpy as np\n",
        "np.set_printoptions(suppress=True)"
      ]
    },
    {
      "cell_type": "markdown",
      "metadata": {
        "id": "2JT1_nLKFOTF"
      },
      "source": [
        "## Bootstrapping"
      ]
    },
    {
      "cell_type": "code",
      "execution_count": 18,
      "metadata": {
        "id": "BX5daM94FOTG"
      },
      "outputs": [],
      "source": [
        "A = [  98.04,      0, 0.5, 100]\n",
        "B = [  96.12,      0, 1.0, 100]\n",
        "C = [ 971.16,   0.02, 1.5, 1000]\n",
        "D = [1019.04,   0.05, 2.0, 1000]\n",
        "E = [1000.00,   0.04, 2.5, 1000]\n",
        "F = [1028.01,   0.05, 3.0, 1000]\n",
        "bonds = np.row_stack((A, B, C, D, E, F))"
      ]
    },
    {
      "cell_type": "code",
      "execution_count": 19,
      "metadata": {
        "colab": {
          "base_uri": "https://localhost:8080/",
          "height": 238
        },
        "id": "WEfQJN4KFOTH",
        "outputId": "5f0e7ad8-9b44-469d-ccca-c576b628ad44"
      },
      "outputs": [
        {
          "output_type": "execute_result",
          "data": {
            "text/plain": [
              "  bond    price  coupon_rate  maturity    face  period\n",
              "1    A    98.04         0.00       0.5   100.0     1.0\n",
              "2    B    96.12         0.00       1.0   100.0     2.0\n",
              "3    C   971.16         0.02       1.5  1000.0     3.0\n",
              "4    D  1019.04         0.05       2.0  1000.0     4.0\n",
              "5    E  1000.00         0.04       2.5  1000.0     5.0\n",
              "6    F  1028.01         0.05       3.0  1000.0     6.0"
            ],
            "text/html": [
              "\n",
              "  <div id=\"df-408b6e0d-f10b-419f-9651-dc75ef4fa2ab\" class=\"colab-df-container\">\n",
              "    <div>\n",
              "<style scoped>\n",
              "    .dataframe tbody tr th:only-of-type {\n",
              "        vertical-align: middle;\n",
              "    }\n",
              "\n",
              "    .dataframe tbody tr th {\n",
              "        vertical-align: top;\n",
              "    }\n",
              "\n",
              "    .dataframe thead th {\n",
              "        text-align: right;\n",
              "    }\n",
              "</style>\n",
              "<table border=\"1\" class=\"dataframe\">\n",
              "  <thead>\n",
              "    <tr style=\"text-align: right;\">\n",
              "      <th></th>\n",
              "      <th>bond</th>\n",
              "      <th>price</th>\n",
              "      <th>coupon_rate</th>\n",
              "      <th>maturity</th>\n",
              "      <th>face</th>\n",
              "      <th>period</th>\n",
              "    </tr>\n",
              "  </thead>\n",
              "  <tbody>\n",
              "    <tr>\n",
              "      <th>1</th>\n",
              "      <td>A</td>\n",
              "      <td>98.04</td>\n",
              "      <td>0.00</td>\n",
              "      <td>0.5</td>\n",
              "      <td>100.0</td>\n",
              "      <td>1.0</td>\n",
              "    </tr>\n",
              "    <tr>\n",
              "      <th>2</th>\n",
              "      <td>B</td>\n",
              "      <td>96.12</td>\n",
              "      <td>0.00</td>\n",
              "      <td>1.0</td>\n",
              "      <td>100.0</td>\n",
              "      <td>2.0</td>\n",
              "    </tr>\n",
              "    <tr>\n",
              "      <th>3</th>\n",
              "      <td>C</td>\n",
              "      <td>971.16</td>\n",
              "      <td>0.02</td>\n",
              "      <td>1.5</td>\n",
              "      <td>1000.0</td>\n",
              "      <td>3.0</td>\n",
              "    </tr>\n",
              "    <tr>\n",
              "      <th>4</th>\n",
              "      <td>D</td>\n",
              "      <td>1019.04</td>\n",
              "      <td>0.05</td>\n",
              "      <td>2.0</td>\n",
              "      <td>1000.0</td>\n",
              "      <td>4.0</td>\n",
              "    </tr>\n",
              "    <tr>\n",
              "      <th>5</th>\n",
              "      <td>E</td>\n",
              "      <td>1000.00</td>\n",
              "      <td>0.04</td>\n",
              "      <td>2.5</td>\n",
              "      <td>1000.0</td>\n",
              "      <td>5.0</td>\n",
              "    </tr>\n",
              "    <tr>\n",
              "      <th>6</th>\n",
              "      <td>F</td>\n",
              "      <td>1028.01</td>\n",
              "      <td>0.05</td>\n",
              "      <td>3.0</td>\n",
              "      <td>1000.0</td>\n",
              "      <td>6.0</td>\n",
              "    </tr>\n",
              "  </tbody>\n",
              "</table>\n",
              "</div>\n",
              "    <div class=\"colab-df-buttons\">\n",
              "\n",
              "  <div class=\"colab-df-container\">\n",
              "    <button class=\"colab-df-convert\" onclick=\"convertToInteractive('df-408b6e0d-f10b-419f-9651-dc75ef4fa2ab')\"\n",
              "            title=\"Convert this dataframe to an interactive table.\"\n",
              "            style=\"display:none;\">\n",
              "\n",
              "  <svg xmlns=\"http://www.w3.org/2000/svg\" height=\"24px\" viewBox=\"0 -960 960 960\">\n",
              "    <path d=\"M120-120v-720h720v720H120Zm60-500h600v-160H180v160Zm220 220h160v-160H400v160Zm0 220h160v-160H400v160ZM180-400h160v-160H180v160Zm440 0h160v-160H620v160ZM180-180h160v-160H180v160Zm440 0h160v-160H620v160Z\"/>\n",
              "  </svg>\n",
              "    </button>\n",
              "\n",
              "  <style>\n",
              "    .colab-df-container {\n",
              "      display:flex;\n",
              "      gap: 12px;\n",
              "    }\n",
              "\n",
              "    .colab-df-convert {\n",
              "      background-color: #E8F0FE;\n",
              "      border: none;\n",
              "      border-radius: 50%;\n",
              "      cursor: pointer;\n",
              "      display: none;\n",
              "      fill: #1967D2;\n",
              "      height: 32px;\n",
              "      padding: 0 0 0 0;\n",
              "      width: 32px;\n",
              "    }\n",
              "\n",
              "    .colab-df-convert:hover {\n",
              "      background-color: #E2EBFA;\n",
              "      box-shadow: 0px 1px 2px rgba(60, 64, 67, 0.3), 0px 1px 3px 1px rgba(60, 64, 67, 0.15);\n",
              "      fill: #174EA6;\n",
              "    }\n",
              "\n",
              "    .colab-df-buttons div {\n",
              "      margin-bottom: 4px;\n",
              "    }\n",
              "\n",
              "    [theme=dark] .colab-df-convert {\n",
              "      background-color: #3B4455;\n",
              "      fill: #D2E3FC;\n",
              "    }\n",
              "\n",
              "    [theme=dark] .colab-df-convert:hover {\n",
              "      background-color: #434B5C;\n",
              "      box-shadow: 0px 1px 3px 1px rgba(0, 0, 0, 0.15);\n",
              "      filter: drop-shadow(0px 1px 2px rgba(0, 0, 0, 0.3));\n",
              "      fill: #FFFFFF;\n",
              "    }\n",
              "  </style>\n",
              "\n",
              "    <script>\n",
              "      const buttonEl =\n",
              "        document.querySelector('#df-408b6e0d-f10b-419f-9651-dc75ef4fa2ab button.colab-df-convert');\n",
              "      buttonEl.style.display =\n",
              "        google.colab.kernel.accessAllowed ? 'block' : 'none';\n",
              "\n",
              "      async function convertToInteractive(key) {\n",
              "        const element = document.querySelector('#df-408b6e0d-f10b-419f-9651-dc75ef4fa2ab');\n",
              "        const dataTable =\n",
              "          await google.colab.kernel.invokeFunction('convertToInteractive',\n",
              "                                                    [key], {});\n",
              "        if (!dataTable) return;\n",
              "\n",
              "        const docLinkHtml = 'Like what you see? Visit the ' +\n",
              "          '<a target=\"_blank\" href=https://colab.research.google.com/notebooks/data_table.ipynb>data table notebook</a>'\n",
              "          + ' to learn more about interactive tables.';\n",
              "        element.innerHTML = '';\n",
              "        dataTable['output_type'] = 'display_data';\n",
              "        await google.colab.output.renderOutput(dataTable, element);\n",
              "        const docLink = document.createElement('div');\n",
              "        docLink.innerHTML = docLinkHtml;\n",
              "        element.appendChild(docLink);\n",
              "      }\n",
              "    </script>\n",
              "  </div>\n",
              "\n",
              "\n",
              "<div id=\"df-fdc11976-d5f7-4c82-81a4-7fdbe077d8fb\">\n",
              "  <button class=\"colab-df-quickchart\" onclick=\"quickchart('df-fdc11976-d5f7-4c82-81a4-7fdbe077d8fb')\"\n",
              "            title=\"Suggest charts\"\n",
              "            style=\"display:none;\">\n",
              "\n",
              "<svg xmlns=\"http://www.w3.org/2000/svg\" height=\"24px\"viewBox=\"0 0 24 24\"\n",
              "     width=\"24px\">\n",
              "    <g>\n",
              "        <path d=\"M19 3H5c-1.1 0-2 .9-2 2v14c0 1.1.9 2 2 2h14c1.1 0 2-.9 2-2V5c0-1.1-.9-2-2-2zM9 17H7v-7h2v7zm4 0h-2V7h2v10zm4 0h-2v-4h2v4z\"/>\n",
              "    </g>\n",
              "</svg>\n",
              "  </button>\n",
              "\n",
              "<style>\n",
              "  .colab-df-quickchart {\n",
              "      --bg-color: #E8F0FE;\n",
              "      --fill-color: #1967D2;\n",
              "      --hover-bg-color: #E2EBFA;\n",
              "      --hover-fill-color: #174EA6;\n",
              "      --disabled-fill-color: #AAA;\n",
              "      --disabled-bg-color: #DDD;\n",
              "  }\n",
              "\n",
              "  [theme=dark] .colab-df-quickchart {\n",
              "      --bg-color: #3B4455;\n",
              "      --fill-color: #D2E3FC;\n",
              "      --hover-bg-color: #434B5C;\n",
              "      --hover-fill-color: #FFFFFF;\n",
              "      --disabled-bg-color: #3B4455;\n",
              "      --disabled-fill-color: #666;\n",
              "  }\n",
              "\n",
              "  .colab-df-quickchart {\n",
              "    background-color: var(--bg-color);\n",
              "    border: none;\n",
              "    border-radius: 50%;\n",
              "    cursor: pointer;\n",
              "    display: none;\n",
              "    fill: var(--fill-color);\n",
              "    height: 32px;\n",
              "    padding: 0;\n",
              "    width: 32px;\n",
              "  }\n",
              "\n",
              "  .colab-df-quickchart:hover {\n",
              "    background-color: var(--hover-bg-color);\n",
              "    box-shadow: 0 1px 2px rgba(60, 64, 67, 0.3), 0 1px 3px 1px rgba(60, 64, 67, 0.15);\n",
              "    fill: var(--button-hover-fill-color);\n",
              "  }\n",
              "\n",
              "  .colab-df-quickchart-complete:disabled,\n",
              "  .colab-df-quickchart-complete:disabled:hover {\n",
              "    background-color: var(--disabled-bg-color);\n",
              "    fill: var(--disabled-fill-color);\n",
              "    box-shadow: none;\n",
              "  }\n",
              "\n",
              "  .colab-df-spinner {\n",
              "    border: 2px solid var(--fill-color);\n",
              "    border-color: transparent;\n",
              "    border-bottom-color: var(--fill-color);\n",
              "    animation:\n",
              "      spin 1s steps(1) infinite;\n",
              "  }\n",
              "\n",
              "  @keyframes spin {\n",
              "    0% {\n",
              "      border-color: transparent;\n",
              "      border-bottom-color: var(--fill-color);\n",
              "      border-left-color: var(--fill-color);\n",
              "    }\n",
              "    20% {\n",
              "      border-color: transparent;\n",
              "      border-left-color: var(--fill-color);\n",
              "      border-top-color: var(--fill-color);\n",
              "    }\n",
              "    30% {\n",
              "      border-color: transparent;\n",
              "      border-left-color: var(--fill-color);\n",
              "      border-top-color: var(--fill-color);\n",
              "      border-right-color: var(--fill-color);\n",
              "    }\n",
              "    40% {\n",
              "      border-color: transparent;\n",
              "      border-right-color: var(--fill-color);\n",
              "      border-top-color: var(--fill-color);\n",
              "    }\n",
              "    60% {\n",
              "      border-color: transparent;\n",
              "      border-right-color: var(--fill-color);\n",
              "    }\n",
              "    80% {\n",
              "      border-color: transparent;\n",
              "      border-right-color: var(--fill-color);\n",
              "      border-bottom-color: var(--fill-color);\n",
              "    }\n",
              "    90% {\n",
              "      border-color: transparent;\n",
              "      border-bottom-color: var(--fill-color);\n",
              "    }\n",
              "  }\n",
              "</style>\n",
              "\n",
              "  <script>\n",
              "    async function quickchart(key) {\n",
              "      const quickchartButtonEl =\n",
              "        document.querySelector('#' + key + ' button');\n",
              "      quickchartButtonEl.disabled = true;  // To prevent multiple clicks.\n",
              "      quickchartButtonEl.classList.add('colab-df-spinner');\n",
              "      try {\n",
              "        const charts = await google.colab.kernel.invokeFunction(\n",
              "            'suggestCharts', [key], {});\n",
              "      } catch (error) {\n",
              "        console.error('Error during call to suggestCharts:', error);\n",
              "      }\n",
              "      quickchartButtonEl.classList.remove('colab-df-spinner');\n",
              "      quickchartButtonEl.classList.add('colab-df-quickchart-complete');\n",
              "    }\n",
              "    (() => {\n",
              "      let quickchartButtonEl =\n",
              "        document.querySelector('#df-fdc11976-d5f7-4c82-81a4-7fdbe077d8fb button');\n",
              "      quickchartButtonEl.style.display =\n",
              "        google.colab.kernel.accessAllowed ? 'block' : 'none';\n",
              "    })();\n",
              "  </script>\n",
              "</div>\n",
              "\n",
              "  <div id=\"id_a686222a-746a-4e57-8c69-bb4e5b4f6236\">\n",
              "    <style>\n",
              "      .colab-df-generate {\n",
              "        background-color: #E8F0FE;\n",
              "        border: none;\n",
              "        border-radius: 50%;\n",
              "        cursor: pointer;\n",
              "        display: none;\n",
              "        fill: #1967D2;\n",
              "        height: 32px;\n",
              "        padding: 0 0 0 0;\n",
              "        width: 32px;\n",
              "      }\n",
              "\n",
              "      .colab-df-generate:hover {\n",
              "        background-color: #E2EBFA;\n",
              "        box-shadow: 0px 1px 2px rgba(60, 64, 67, 0.3), 0px 1px 3px 1px rgba(60, 64, 67, 0.15);\n",
              "        fill: #174EA6;\n",
              "      }\n",
              "\n",
              "      [theme=dark] .colab-df-generate {\n",
              "        background-color: #3B4455;\n",
              "        fill: #D2E3FC;\n",
              "      }\n",
              "\n",
              "      [theme=dark] .colab-df-generate:hover {\n",
              "        background-color: #434B5C;\n",
              "        box-shadow: 0px 1px 3px 1px rgba(0, 0, 0, 0.15);\n",
              "        filter: drop-shadow(0px 1px 2px rgba(0, 0, 0, 0.3));\n",
              "        fill: #FFFFFF;\n",
              "      }\n",
              "    </style>\n",
              "    <button class=\"colab-df-generate\" onclick=\"generateWithVariable('df')\"\n",
              "            title=\"Generate code using this dataframe.\"\n",
              "            style=\"display:none;\">\n",
              "\n",
              "  <svg xmlns=\"http://www.w3.org/2000/svg\" height=\"24px\"viewBox=\"0 0 24 24\"\n",
              "       width=\"24px\">\n",
              "    <path d=\"M7,19H8.4L18.45,9,17,7.55,7,17.6ZM5,21V16.75L18.45,3.32a2,2,0,0,1,2.83,0l1.4,1.43a1.91,1.91,0,0,1,.58,1.4,1.91,1.91,0,0,1-.58,1.4L9.25,21ZM18.45,9,17,7.55Zm-12,3A5.31,5.31,0,0,0,4.9,8.1,5.31,5.31,0,0,0,1,6.5,5.31,5.31,0,0,0,4.9,4.9,5.31,5.31,0,0,0,6.5,1,5.31,5.31,0,0,0,8.1,4.9,5.31,5.31,0,0,0,12,6.5,5.46,5.46,0,0,0,6.5,12Z\"/>\n",
              "  </svg>\n",
              "    </button>\n",
              "    <script>\n",
              "      (() => {\n",
              "      const buttonEl =\n",
              "        document.querySelector('#id_a686222a-746a-4e57-8c69-bb4e5b4f6236 button.colab-df-generate');\n",
              "      buttonEl.style.display =\n",
              "        google.colab.kernel.accessAllowed ? 'block' : 'none';\n",
              "\n",
              "      buttonEl.onclick = () => {\n",
              "        google.colab.notebook.generateWithVariable('df');\n",
              "      }\n",
              "      })();\n",
              "    </script>\n",
              "  </div>\n",
              "\n",
              "    </div>\n",
              "  </div>\n"
            ],
            "application/vnd.google.colaboratory.intrinsic+json": {
              "type": "dataframe",
              "variable_name": "df",
              "summary": "{\n  \"name\": \"df\",\n  \"rows\": 6,\n  \"fields\": [\n    {\n      \"column\": \"bond\",\n      \"properties\": {\n        \"dtype\": \"string\",\n        \"num_unique_values\": 6,\n        \"samples\": [\n          \"A\",\n          \"B\",\n          \"F\"\n        ],\n        \"semantic_type\": \"\",\n        \"description\": \"\"\n      }\n    },\n    {\n      \"column\": \"price\",\n      \"properties\": {\n        \"dtype\": \"number\",\n        \"std\": 469.0215816960523,\n        \"min\": 96.12,\n        \"max\": 1028.01,\n        \"num_unique_values\": 6,\n        \"samples\": [\n          98.04,\n          96.12,\n          1028.01\n        ],\n        \"semantic_type\": \"\",\n        \"description\": \"\"\n      }\n    },\n    {\n      \"column\": \"coupon_rate\",\n      \"properties\": {\n        \"dtype\": \"number\",\n        \"std\": 0.023380903889000243,\n        \"min\": 0.0,\n        \"max\": 0.05,\n        \"num_unique_values\": 4,\n        \"samples\": [\n          0.02,\n          0.04,\n          0.0\n        ],\n        \"semantic_type\": \"\",\n        \"description\": \"\"\n      }\n    },\n    {\n      \"column\": \"maturity\",\n      \"properties\": {\n        \"dtype\": \"number\",\n        \"std\": 0.9354143466934853,\n        \"min\": 0.5,\n        \"max\": 3.0,\n        \"num_unique_values\": 6,\n        \"samples\": [\n          0.5,\n          1.0,\n          3.0\n        ],\n        \"semantic_type\": \"\",\n        \"description\": \"\"\n      }\n    },\n    {\n      \"column\": \"face\",\n      \"properties\": {\n        \"dtype\": \"number\",\n        \"std\": 464.75800154489,\n        \"min\": 100.0,\n        \"max\": 1000.0,\n        \"num_unique_values\": 2,\n        \"samples\": [\n          1000.0,\n          100.0\n        ],\n        \"semantic_type\": \"\",\n        \"description\": \"\"\n      }\n    },\n    {\n      \"column\": \"period\",\n      \"properties\": {\n        \"dtype\": \"number\",\n        \"std\": 1.8708286933869707,\n        \"min\": 1.0,\n        \"max\": 6.0,\n        \"num_unique_values\": 6,\n        \"samples\": [\n          1.0,\n          2.0\n        ],\n        \"semantic_type\": \"\",\n        \"description\": \"\"\n      }\n    }\n  ]\n}"
            }
          },
          "metadata": {},
          "execution_count": 19
        }
      ],
      "source": [
        "df = pd.DataFrame(bonds,\n",
        "        columns = ['price', 'coupon_rate', 'maturity','face'],\n",
        "        index=['A','B','C','D','E','F'])\n",
        "df['period'] = df.maturity*2\n",
        "df=df.reset_index()\n",
        "df.index = df.index+1\n",
        "df.columns = ['bond', 'price', 'coupon_rate', 'maturity','face', 'period']\n",
        "df"
      ]
    },
    {
      "cell_type": "markdown",
      "metadata": {
        "id": "36YJfGpSFOTJ"
      },
      "source": [
        "### Functions to generalize bootstrapping and pricing"
      ]
    },
    {
      "cell_type": "code",
      "execution_count": 20,
      "metadata": {
        "colab": {
          "base_uri": "https://localhost:8080/"
        },
        "id": "bi_-60v0FOTK",
        "outputId": "b46a6e6f-b4af-477d-d5cb-255b6c64f16a"
      },
      "outputs": [
        {
          "output_type": "execute_result",
          "data": {
            "text/plain": [
              "[0.01999184006527943,\n",
              " 0.01998343560350757,\n",
              " 0.020000556539538028,\n",
              " 0.019999887297390107,\n",
              " 0.020000167501260657,\n",
              " 0.019999642143768703]"
            ]
          },
          "metadata": {},
          "execution_count": 20
        }
      ],
      "source": [
        "def bootstrap(d, nop):\n",
        "    '''\n",
        "    d: a dataset with prices, face value, coupon_rate, period of maturity\n",
        "    nop: compounding period (ie., 1 = annual, 2=semiannual)\n",
        "    '''\n",
        "    spot_rates = []\n",
        "    for t in d.index:\n",
        "        p      = d.loc[t,'price']\n",
        "        face   = d.loc[t,'face']\n",
        "        cr     = d.loc[t,'coupon_rate']\n",
        "        period = int(d.loc[t,'period'])\n",
        "        coupon = face*cr/nop\n",
        "        cf_maturity = face + coupon\n",
        "\n",
        "        pv_coupons = 0.0\n",
        "        for i in range(period-1):\n",
        "            pv_coupons = pv_coupons + coupon / (1+spot_rates[i])**(i+1)\n",
        "        x = p - pv_coupons\n",
        "        z = (cf_maturity / x )**(1/period) - 1\n",
        "        spot_rates.append(z)\n",
        "    return spot_rates\n",
        "spot_curve = bootstrap(df,2)\n",
        "spot_curve"
      ]
    },
    {
      "cell_type": "code",
      "execution_count": 21,
      "metadata": {
        "colab": {
          "base_uri": "https://localhost:8080/"
        },
        "id": "SMAZHiZMFOTN",
        "outputId": "f32ffb1d-725e-4244-a262-e596fd0f2041"
      },
      "outputs": [
        {
          "output_type": "execute_result",
          "data": {
            "text/plain": [
              "998.8940148304082"
            ]
          },
          "metadata": {},
          "execution_count": 21
        }
      ],
      "source": [
        "def spot_pricer(cfs, spot):\n",
        "    '''\n",
        "    cfs:  list of cash flows at each period\n",
        "    spot: list of spot rates at each period\n",
        "    cfs should be the same length as spot\n",
        "    '''\n",
        "    cfs = np.array(cfs)\n",
        "    discount_factors = np.array([1/(1+spot[i])**(i+1) for i in range(len(spot))])\n",
        "    return cfs @ discount_factors\n",
        "spot_pricer([0,40,0,40,0,1040], spot_curve)"
      ]
    },
    {
      "cell_type": "code",
      "execution_count": 22,
      "metadata": {
        "colab": {
          "base_uri": "https://localhost:8080/"
        },
        "id": "f9O4LskKFOTO",
        "outputId": "0fba4a2e-b499-4e88-f7a6-07d2f177f901"
      },
      "outputs": [
        {
          "output_type": "stream",
          "name": "stdout",
          "text": [
            "The bond cash flows for bond A are:  [100.   0.   0.   0.   0.   0.]\n",
            "The fair price for A is: $98.04\n"
          ]
        }
      ],
      "source": [
        "# Check that the prices are consistent with the spot curve\n",
        "\n",
        "# pick a bond\n",
        "BOND_ID = 'A'\n",
        "bond_dict = {'A': 1, 'B':2, 'C':3, 'D':4, 'E':5, 'F':6}\n",
        "def cf_generator(bond_id):\n",
        "    i = bond_dict[bond_id]\n",
        "    nop = 2\n",
        "    face   = df.loc[i,'face']\n",
        "    cr     = df.loc[i,'coupon_rate']\n",
        "    period = int(df.loc[i,'period'])\n",
        "    coupon = face*cr/nop\n",
        "    cf_maturity = face + coupon\n",
        "    cfs =  np.zeros(len(spot_curve))\n",
        "    for i in range(period-1):\n",
        "        cfs[i] = coupon\n",
        "    cfs[period-1] = cf_maturity\n",
        "    print('The bond cash flows for bond ' + bond_id + ' are: ', cfs)\n",
        "    return cfs\n",
        "cfs = cf_generator(BOND_ID)\n",
        "\n",
        "p = spot_pricer(cfs.tolist(),spot_curve)\n",
        "print('The fair price for ' + BOND_ID + f' is: ${p:,.2f}')\n"
      ]
    },
    {
      "cell_type": "markdown",
      "metadata": {
        "id": "KpXYjgajFOTP"
      },
      "source": [
        "### Arbitrage and replicating portfolio"
      ]
    },
    {
      "cell_type": "markdown",
      "metadata": {
        "id": "5gLpFz7hFOTP"
      },
      "source": [
        "\n",
        "Example #1 (2-period bond)"
      ]
    },
    {
      "cell_type": "code",
      "execution_count": 23,
      "metadata": {
        "colab": {
          "base_uri": "https://localhost:8080/"
        },
        "id": "6rZzrUzlFOTQ",
        "outputId": "7020c0d5-f097-483f-e5d3-302c829320e2"
      },
      "outputs": [
        {
          "output_type": "execute_result",
          "data": {
            "text/plain": [
              "998.8940148304082"
            ]
          },
          "metadata": {},
          "execution_count": 23
        }
      ],
      "source": [
        "spot_pricer([0,40,0,40,0,1040], spot_curve)"
      ]
    },
    {
      "cell_type": "markdown",
      "metadata": {
        "id": "Ev1wZxF2FOTQ"
      },
      "source": [
        "Example #2 (4-period bond)"
      ]
    },
    {
      "cell_type": "code",
      "execution_count": 24,
      "metadata": {
        "colab": {
          "base_uri": "https://localhost:8080/"
        },
        "id": "5NWrG4veFOTQ",
        "outputId": "855e7e06-de7c-4bc7-cd5e-07916aad276c"
      },
      "outputs": [
        {
          "output_type": "execute_result",
          "data": {
            "text/plain": [
              "array([   0,   40,    0,   40,    0, 1040])"
            ]
          },
          "metadata": {},
          "execution_count": 24
        }
      ],
      "source": [
        "# Target bond cash-flows\n",
        "cfs = np.array([0, 40, 0, 40, 0, 1040])\n",
        "cfs"
      ]
    },
    {
      "cell_type": "code",
      "execution_count": 25,
      "metadata": {
        "colab": {
          "base_uri": "https://localhost:8080/"
        },
        "id": "aEzW4xThFOTR",
        "outputId": "a9ea9090-e9ac-4ad5-da61-b19ef498470e"
      },
      "outputs": [
        {
          "output_type": "stream",
          "name": "stdout",
          "text": [
            "0\n",
            "A\n",
            "The bond cash flows for bond A are:  [100.   0.   0.   0.   0.   0.]\n",
            "1\n",
            "B\n",
            "The bond cash flows for bond B are:  [  0. 100.   0.   0.   0.   0.]\n",
            "2\n",
            "C\n",
            "The bond cash flows for bond C are:  [  10.   10. 1010.    0.    0.    0.]\n",
            "3\n",
            "D\n",
            "The bond cash flows for bond D are:  [  25.   25.   25. 1025.    0.    0.]\n",
            "4\n",
            "E\n",
            "The bond cash flows for bond E are:  [  20.   20.   20.   20. 1020.    0.]\n",
            "5\n",
            "F\n",
            "The bond cash flows for bond F are:  [  25.   25.   25.   25.   25. 1025.]\n"
          ]
        },
        {
          "output_type": "execute_result",
          "data": {
            "text/plain": [
              "array([[ 100.,    0.,    0.,    0.,    0.,    0.],\n",
              "       [   0.,  100.,    0.,    0.,    0.,    0.],\n",
              "       [  10.,   10., 1010.,    0.,    0.,    0.],\n",
              "       [  25.,   25.,   25., 1025.,    0.,    0.],\n",
              "       [  20.,   20.,   20.,   20., 1020.,    0.],\n",
              "       [  25.,   25.,   25.,   25.,   25., 1025.]])"
            ]
          },
          "metadata": {},
          "execution_count": 25
        }
      ],
      "source": [
        "# matrix of cash flows for bonds A-D\n",
        "CF = np.zeros((len(df), len(df)))\n",
        "for j, id in enumerate(['A','B','C','D','E','F']):\n",
        "    print(j)\n",
        "    print(id)\n",
        "    CF[j] = cf_generator(id)\n",
        "CF"
      ]
    },
    {
      "cell_type": "code",
      "execution_count": 26,
      "metadata": {
        "colab": {
          "base_uri": "https://localhost:8080/"
        },
        "id": "YkepGSg-FOTR",
        "outputId": "7ef01cd8-cc81-4a22-8419-fbe619400a42"
      },
      "outputs": [
        {
          "output_type": "execute_result",
          "data": {
            "text/plain": [
              "array([-0.24987669,  0.15012331, -0.02498767,  0.01476245, -0.02486848,\n",
              "        1.01463415])"
            ]
          },
          "metadata": {},
          "execution_count": 26
        }
      ],
      "source": [
        "# Solve the system of equations\n",
        "portfolio = cfs @ np.linalg.pinv(CF)\n",
        "portfolio"
      ]
    },
    {
      "cell_type": "code",
      "execution_count": 27,
      "metadata": {
        "colab": {
          "base_uri": "https://localhost:8080/"
        },
        "id": "vbJpSXTkFOTR",
        "outputId": "5a44e0e8-4cf0-47b9-ee68-60a2a5260f27"
      },
      "outputs": [
        {
          "output_type": "execute_result",
          "data": {
            "text/plain": [
              "array([   0,   40,    0,   39,    0, 1039])"
            ]
          },
          "metadata": {},
          "execution_count": 27
        }
      ],
      "source": [
        "# Check that replicating portfolio delivers same cash flows\n",
        "repl_cfs = portfolio @ CF\n",
        "repl_cfs.astype(int)"
      ]
    },
    {
      "cell_type": "code",
      "execution_count": 28,
      "metadata": {
        "colab": {
          "base_uri": "https://localhost:8080/"
        },
        "id": "sXTNnxS5FOTS",
        "outputId": "3248c3ec-d4e5-4ebd-bb9c-12311a5fda82"
      },
      "outputs": [
        {
          "output_type": "execute_result",
          "data": {
            "text/plain": [
              "998.8940148304073"
            ]
          },
          "metadata": {},
          "execution_count": 28
        }
      ],
      "source": [
        "# Price of replicating portfolio\n",
        "repl_price = portfolio @ df.price\n",
        "repl_price"
      ]
    },
    {
      "cell_type": "code",
      "execution_count": 29,
      "metadata": {
        "colab": {
          "base_uri": "https://localhost:8080/"
        },
        "id": "7hIwkQ-8FOTS",
        "outputId": "c840de0a-71a7-44a1-bba9-03a38feb01af"
      },
      "outputs": [
        {
          "output_type": "execute_result",
          "data": {
            "text/plain": [
              "-11.105985169592714"
            ]
          },
          "metadata": {},
          "execution_count": 29
        }
      ],
      "source": [
        "profit = repl_price-1010\n",
        "profit"
      ]
    },
    {
      "cell_type": "code",
      "source": [],
      "metadata": {
        "id": "NGevgFglKZg3"
      },
      "execution_count": null,
      "outputs": []
    },
    {
      "cell_type": "code",
      "source": [],
      "metadata": {
        "id": "LX0_JsMfKhXf"
      },
      "execution_count": null,
      "outputs": []
    },
    {
      "cell_type": "code",
      "execution_count": 30,
      "metadata": {
        "id": "V2p78phJKibe"
      },
      "outputs": [],
      "source": [
        "A = [ 97.09,      0, 0.5, 100]\n",
        "B = [ 94.26,      0, 1.0, 100]\n",
        "C = [943.43,   0.02, 1.5, 1000]\n",
        "D = [981.41,   0.05, 2.0, 1000]\n",
        "E = [954.20,   0.04, 2.5, 1000]\n",
        "F = [972.91,   0.05, 3.0, 1000]\n",
        "G = [906.55,   0.03, 3.5, 1000]\n",
        "H = [964.90,   0.05, 4.0, 1000]\n",
        "bonds = np.row_stack((A, B, C, D, E, F, G, H))"
      ]
    },
    {
      "cell_type": "code",
      "execution_count": 31,
      "metadata": {
        "outputId": "f5d636a3-82fd-44cc-dbc0-4763d271c558",
        "colab": {
          "base_uri": "https://localhost:8080/",
          "height": 300
        },
        "id": "EbFwg0zoKibe"
      },
      "outputs": [
        {
          "output_type": "execute_result",
          "data": {
            "text/plain": [
              "  bond   price  coupon_rate  maturity    face  period\n",
              "1    A   97.09         0.00       0.5   100.0     1.0\n",
              "2    B   94.26         0.00       1.0   100.0     2.0\n",
              "3    C  943.43         0.02       1.5  1000.0     3.0\n",
              "4    D  981.41         0.05       2.0  1000.0     4.0\n",
              "5    E  954.20         0.04       2.5  1000.0     5.0\n",
              "6    F  972.91         0.05       3.0  1000.0     6.0\n",
              "7    G  906.55         0.03       3.5  1000.0     7.0\n",
              "8    H  964.90         0.05       4.0  1000.0     8.0"
            ],
            "text/html": [
              "\n",
              "  <div id=\"df-bee13f74-7bd3-4293-896f-e52e0b5c4432\" class=\"colab-df-container\">\n",
              "    <div>\n",
              "<style scoped>\n",
              "    .dataframe tbody tr th:only-of-type {\n",
              "        vertical-align: middle;\n",
              "    }\n",
              "\n",
              "    .dataframe tbody tr th {\n",
              "        vertical-align: top;\n",
              "    }\n",
              "\n",
              "    .dataframe thead th {\n",
              "        text-align: right;\n",
              "    }\n",
              "</style>\n",
              "<table border=\"1\" class=\"dataframe\">\n",
              "  <thead>\n",
              "    <tr style=\"text-align: right;\">\n",
              "      <th></th>\n",
              "      <th>bond</th>\n",
              "      <th>price</th>\n",
              "      <th>coupon_rate</th>\n",
              "      <th>maturity</th>\n",
              "      <th>face</th>\n",
              "      <th>period</th>\n",
              "    </tr>\n",
              "  </thead>\n",
              "  <tbody>\n",
              "    <tr>\n",
              "      <th>1</th>\n",
              "      <td>A</td>\n",
              "      <td>97.09</td>\n",
              "      <td>0.00</td>\n",
              "      <td>0.5</td>\n",
              "      <td>100.0</td>\n",
              "      <td>1.0</td>\n",
              "    </tr>\n",
              "    <tr>\n",
              "      <th>2</th>\n",
              "      <td>B</td>\n",
              "      <td>94.26</td>\n",
              "      <td>0.00</td>\n",
              "      <td>1.0</td>\n",
              "      <td>100.0</td>\n",
              "      <td>2.0</td>\n",
              "    </tr>\n",
              "    <tr>\n",
              "      <th>3</th>\n",
              "      <td>C</td>\n",
              "      <td>943.43</td>\n",
              "      <td>0.02</td>\n",
              "      <td>1.5</td>\n",
              "      <td>1000.0</td>\n",
              "      <td>3.0</td>\n",
              "    </tr>\n",
              "    <tr>\n",
              "      <th>4</th>\n",
              "      <td>D</td>\n",
              "      <td>981.41</td>\n",
              "      <td>0.05</td>\n",
              "      <td>2.0</td>\n",
              "      <td>1000.0</td>\n",
              "      <td>4.0</td>\n",
              "    </tr>\n",
              "    <tr>\n",
              "      <th>5</th>\n",
              "      <td>E</td>\n",
              "      <td>954.20</td>\n",
              "      <td>0.04</td>\n",
              "      <td>2.5</td>\n",
              "      <td>1000.0</td>\n",
              "      <td>5.0</td>\n",
              "    </tr>\n",
              "    <tr>\n",
              "      <th>6</th>\n",
              "      <td>F</td>\n",
              "      <td>972.91</td>\n",
              "      <td>0.05</td>\n",
              "      <td>3.0</td>\n",
              "      <td>1000.0</td>\n",
              "      <td>6.0</td>\n",
              "    </tr>\n",
              "    <tr>\n",
              "      <th>7</th>\n",
              "      <td>G</td>\n",
              "      <td>906.55</td>\n",
              "      <td>0.03</td>\n",
              "      <td>3.5</td>\n",
              "      <td>1000.0</td>\n",
              "      <td>7.0</td>\n",
              "    </tr>\n",
              "    <tr>\n",
              "      <th>8</th>\n",
              "      <td>H</td>\n",
              "      <td>964.90</td>\n",
              "      <td>0.05</td>\n",
              "      <td>4.0</td>\n",
              "      <td>1000.0</td>\n",
              "      <td>8.0</td>\n",
              "    </tr>\n",
              "  </tbody>\n",
              "</table>\n",
              "</div>\n",
              "    <div class=\"colab-df-buttons\">\n",
              "\n",
              "  <div class=\"colab-df-container\">\n",
              "    <button class=\"colab-df-convert\" onclick=\"convertToInteractive('df-bee13f74-7bd3-4293-896f-e52e0b5c4432')\"\n",
              "            title=\"Convert this dataframe to an interactive table.\"\n",
              "            style=\"display:none;\">\n",
              "\n",
              "  <svg xmlns=\"http://www.w3.org/2000/svg\" height=\"24px\" viewBox=\"0 -960 960 960\">\n",
              "    <path d=\"M120-120v-720h720v720H120Zm60-500h600v-160H180v160Zm220 220h160v-160H400v160Zm0 220h160v-160H400v160ZM180-400h160v-160H180v160Zm440 0h160v-160H620v160ZM180-180h160v-160H180v160Zm440 0h160v-160H620v160Z\"/>\n",
              "  </svg>\n",
              "    </button>\n",
              "\n",
              "  <style>\n",
              "    .colab-df-container {\n",
              "      display:flex;\n",
              "      gap: 12px;\n",
              "    }\n",
              "\n",
              "    .colab-df-convert {\n",
              "      background-color: #E8F0FE;\n",
              "      border: none;\n",
              "      border-radius: 50%;\n",
              "      cursor: pointer;\n",
              "      display: none;\n",
              "      fill: #1967D2;\n",
              "      height: 32px;\n",
              "      padding: 0 0 0 0;\n",
              "      width: 32px;\n",
              "    }\n",
              "\n",
              "    .colab-df-convert:hover {\n",
              "      background-color: #E2EBFA;\n",
              "      box-shadow: 0px 1px 2px rgba(60, 64, 67, 0.3), 0px 1px 3px 1px rgba(60, 64, 67, 0.15);\n",
              "      fill: #174EA6;\n",
              "    }\n",
              "\n",
              "    .colab-df-buttons div {\n",
              "      margin-bottom: 4px;\n",
              "    }\n",
              "\n",
              "    [theme=dark] .colab-df-convert {\n",
              "      background-color: #3B4455;\n",
              "      fill: #D2E3FC;\n",
              "    }\n",
              "\n",
              "    [theme=dark] .colab-df-convert:hover {\n",
              "      background-color: #434B5C;\n",
              "      box-shadow: 0px 1px 3px 1px rgba(0, 0, 0, 0.15);\n",
              "      filter: drop-shadow(0px 1px 2px rgba(0, 0, 0, 0.3));\n",
              "      fill: #FFFFFF;\n",
              "    }\n",
              "  </style>\n",
              "\n",
              "    <script>\n",
              "      const buttonEl =\n",
              "        document.querySelector('#df-bee13f74-7bd3-4293-896f-e52e0b5c4432 button.colab-df-convert');\n",
              "      buttonEl.style.display =\n",
              "        google.colab.kernel.accessAllowed ? 'block' : 'none';\n",
              "\n",
              "      async function convertToInteractive(key) {\n",
              "        const element = document.querySelector('#df-bee13f74-7bd3-4293-896f-e52e0b5c4432');\n",
              "        const dataTable =\n",
              "          await google.colab.kernel.invokeFunction('convertToInteractive',\n",
              "                                                    [key], {});\n",
              "        if (!dataTable) return;\n",
              "\n",
              "        const docLinkHtml = 'Like what you see? Visit the ' +\n",
              "          '<a target=\"_blank\" href=https://colab.research.google.com/notebooks/data_table.ipynb>data table notebook</a>'\n",
              "          + ' to learn more about interactive tables.';\n",
              "        element.innerHTML = '';\n",
              "        dataTable['output_type'] = 'display_data';\n",
              "        await google.colab.output.renderOutput(dataTable, element);\n",
              "        const docLink = document.createElement('div');\n",
              "        docLink.innerHTML = docLinkHtml;\n",
              "        element.appendChild(docLink);\n",
              "      }\n",
              "    </script>\n",
              "  </div>\n",
              "\n",
              "\n",
              "<div id=\"df-8ba47cec-77c3-4f25-a4c1-e35b122099b9\">\n",
              "  <button class=\"colab-df-quickchart\" onclick=\"quickchart('df-8ba47cec-77c3-4f25-a4c1-e35b122099b9')\"\n",
              "            title=\"Suggest charts\"\n",
              "            style=\"display:none;\">\n",
              "\n",
              "<svg xmlns=\"http://www.w3.org/2000/svg\" height=\"24px\"viewBox=\"0 0 24 24\"\n",
              "     width=\"24px\">\n",
              "    <g>\n",
              "        <path d=\"M19 3H5c-1.1 0-2 .9-2 2v14c0 1.1.9 2 2 2h14c1.1 0 2-.9 2-2V5c0-1.1-.9-2-2-2zM9 17H7v-7h2v7zm4 0h-2V7h2v10zm4 0h-2v-4h2v4z\"/>\n",
              "    </g>\n",
              "</svg>\n",
              "  </button>\n",
              "\n",
              "<style>\n",
              "  .colab-df-quickchart {\n",
              "      --bg-color: #E8F0FE;\n",
              "      --fill-color: #1967D2;\n",
              "      --hover-bg-color: #E2EBFA;\n",
              "      --hover-fill-color: #174EA6;\n",
              "      --disabled-fill-color: #AAA;\n",
              "      --disabled-bg-color: #DDD;\n",
              "  }\n",
              "\n",
              "  [theme=dark] .colab-df-quickchart {\n",
              "      --bg-color: #3B4455;\n",
              "      --fill-color: #D2E3FC;\n",
              "      --hover-bg-color: #434B5C;\n",
              "      --hover-fill-color: #FFFFFF;\n",
              "      --disabled-bg-color: #3B4455;\n",
              "      --disabled-fill-color: #666;\n",
              "  }\n",
              "\n",
              "  .colab-df-quickchart {\n",
              "    background-color: var(--bg-color);\n",
              "    border: none;\n",
              "    border-radius: 50%;\n",
              "    cursor: pointer;\n",
              "    display: none;\n",
              "    fill: var(--fill-color);\n",
              "    height: 32px;\n",
              "    padding: 0;\n",
              "    width: 32px;\n",
              "  }\n",
              "\n",
              "  .colab-df-quickchart:hover {\n",
              "    background-color: var(--hover-bg-color);\n",
              "    box-shadow: 0 1px 2px rgba(60, 64, 67, 0.3), 0 1px 3px 1px rgba(60, 64, 67, 0.15);\n",
              "    fill: var(--button-hover-fill-color);\n",
              "  }\n",
              "\n",
              "  .colab-df-quickchart-complete:disabled,\n",
              "  .colab-df-quickchart-complete:disabled:hover {\n",
              "    background-color: var(--disabled-bg-color);\n",
              "    fill: var(--disabled-fill-color);\n",
              "    box-shadow: none;\n",
              "  }\n",
              "\n",
              "  .colab-df-spinner {\n",
              "    border: 2px solid var(--fill-color);\n",
              "    border-color: transparent;\n",
              "    border-bottom-color: var(--fill-color);\n",
              "    animation:\n",
              "      spin 1s steps(1) infinite;\n",
              "  }\n",
              "\n",
              "  @keyframes spin {\n",
              "    0% {\n",
              "      border-color: transparent;\n",
              "      border-bottom-color: var(--fill-color);\n",
              "      border-left-color: var(--fill-color);\n",
              "    }\n",
              "    20% {\n",
              "      border-color: transparent;\n",
              "      border-left-color: var(--fill-color);\n",
              "      border-top-color: var(--fill-color);\n",
              "    }\n",
              "    30% {\n",
              "      border-color: transparent;\n",
              "      border-left-color: var(--fill-color);\n",
              "      border-top-color: var(--fill-color);\n",
              "      border-right-color: var(--fill-color);\n",
              "    }\n",
              "    40% {\n",
              "      border-color: transparent;\n",
              "      border-right-color: var(--fill-color);\n",
              "      border-top-color: var(--fill-color);\n",
              "    }\n",
              "    60% {\n",
              "      border-color: transparent;\n",
              "      border-right-color: var(--fill-color);\n",
              "    }\n",
              "    80% {\n",
              "      border-color: transparent;\n",
              "      border-right-color: var(--fill-color);\n",
              "      border-bottom-color: var(--fill-color);\n",
              "    }\n",
              "    90% {\n",
              "      border-color: transparent;\n",
              "      border-bottom-color: var(--fill-color);\n",
              "    }\n",
              "  }\n",
              "</style>\n",
              "\n",
              "  <script>\n",
              "    async function quickchart(key) {\n",
              "      const quickchartButtonEl =\n",
              "        document.querySelector('#' + key + ' button');\n",
              "      quickchartButtonEl.disabled = true;  // To prevent multiple clicks.\n",
              "      quickchartButtonEl.classList.add('colab-df-spinner');\n",
              "      try {\n",
              "        const charts = await google.colab.kernel.invokeFunction(\n",
              "            'suggestCharts', [key], {});\n",
              "      } catch (error) {\n",
              "        console.error('Error during call to suggestCharts:', error);\n",
              "      }\n",
              "      quickchartButtonEl.classList.remove('colab-df-spinner');\n",
              "      quickchartButtonEl.classList.add('colab-df-quickchart-complete');\n",
              "    }\n",
              "    (() => {\n",
              "      let quickchartButtonEl =\n",
              "        document.querySelector('#df-8ba47cec-77c3-4f25-a4c1-e35b122099b9 button');\n",
              "      quickchartButtonEl.style.display =\n",
              "        google.colab.kernel.accessAllowed ? 'block' : 'none';\n",
              "    })();\n",
              "  </script>\n",
              "</div>\n",
              "\n",
              "  <div id=\"id_6af0c860-2a81-478b-816f-ef0b76824c58\">\n",
              "    <style>\n",
              "      .colab-df-generate {\n",
              "        background-color: #E8F0FE;\n",
              "        border: none;\n",
              "        border-radius: 50%;\n",
              "        cursor: pointer;\n",
              "        display: none;\n",
              "        fill: #1967D2;\n",
              "        height: 32px;\n",
              "        padding: 0 0 0 0;\n",
              "        width: 32px;\n",
              "      }\n",
              "\n",
              "      .colab-df-generate:hover {\n",
              "        background-color: #E2EBFA;\n",
              "        box-shadow: 0px 1px 2px rgba(60, 64, 67, 0.3), 0px 1px 3px 1px rgba(60, 64, 67, 0.15);\n",
              "        fill: #174EA6;\n",
              "      }\n",
              "\n",
              "      [theme=dark] .colab-df-generate {\n",
              "        background-color: #3B4455;\n",
              "        fill: #D2E3FC;\n",
              "      }\n",
              "\n",
              "      [theme=dark] .colab-df-generate:hover {\n",
              "        background-color: #434B5C;\n",
              "        box-shadow: 0px 1px 3px 1px rgba(0, 0, 0, 0.15);\n",
              "        filter: drop-shadow(0px 1px 2px rgba(0, 0, 0, 0.3));\n",
              "        fill: #FFFFFF;\n",
              "      }\n",
              "    </style>\n",
              "    <button class=\"colab-df-generate\" onclick=\"generateWithVariable('df')\"\n",
              "            title=\"Generate code using this dataframe.\"\n",
              "            style=\"display:none;\">\n",
              "\n",
              "  <svg xmlns=\"http://www.w3.org/2000/svg\" height=\"24px\"viewBox=\"0 0 24 24\"\n",
              "       width=\"24px\">\n",
              "    <path d=\"M7,19H8.4L18.45,9,17,7.55,7,17.6ZM5,21V16.75L18.45,3.32a2,2,0,0,1,2.83,0l1.4,1.43a1.91,1.91,0,0,1,.58,1.4,1.91,1.91,0,0,1-.58,1.4L9.25,21ZM18.45,9,17,7.55Zm-12,3A5.31,5.31,0,0,0,4.9,8.1,5.31,5.31,0,0,0,1,6.5,5.31,5.31,0,0,0,4.9,4.9,5.31,5.31,0,0,0,6.5,1,5.31,5.31,0,0,0,8.1,4.9,5.31,5.31,0,0,0,12,6.5,5.46,5.46,0,0,0,6.5,12Z\"/>\n",
              "  </svg>\n",
              "    </button>\n",
              "    <script>\n",
              "      (() => {\n",
              "      const buttonEl =\n",
              "        document.querySelector('#id_6af0c860-2a81-478b-816f-ef0b76824c58 button.colab-df-generate');\n",
              "      buttonEl.style.display =\n",
              "        google.colab.kernel.accessAllowed ? 'block' : 'none';\n",
              "\n",
              "      buttonEl.onclick = () => {\n",
              "        google.colab.notebook.generateWithVariable('df');\n",
              "      }\n",
              "      })();\n",
              "    </script>\n",
              "  </div>\n",
              "\n",
              "    </div>\n",
              "  </div>\n"
            ],
            "application/vnd.google.colaboratory.intrinsic+json": {
              "type": "dataframe",
              "variable_name": "df",
              "summary": "{\n  \"name\": \"df\",\n  \"rows\": 8,\n  \"fields\": [\n    {\n      \"column\": \"bond\",\n      \"properties\": {\n        \"dtype\": \"string\",\n        \"num_unique_values\": 8,\n        \"samples\": [\n          \"B\",\n          \"F\",\n          \"A\"\n        ],\n        \"semantic_type\": \"\",\n        \"description\": \"\"\n      }\n    },\n    {\n      \"column\": \"price\",\n      \"properties\": {\n        \"dtype\": \"number\",\n        \"std\": 397.92679584988633,\n        \"min\": 94.26,\n        \"max\": 981.41,\n        \"num_unique_values\": 8,\n        \"samples\": [\n          94.26,\n          972.91,\n          97.09\n        ],\n        \"semantic_type\": \"\",\n        \"description\": \"\"\n      }\n    },\n    {\n      \"column\": \"coupon_rate\",\n      \"properties\": {\n        \"dtype\": \"number\",\n        \"std\": 0.02138089935299395,\n        \"min\": 0.0,\n        \"max\": 0.05,\n        \"num_unique_values\": 5,\n        \"samples\": [\n          0.02,\n          0.03,\n          0.05\n        ],\n        \"semantic_type\": \"\",\n        \"description\": \"\"\n      }\n    },\n    {\n      \"column\": \"maturity\",\n      \"properties\": {\n        \"dtype\": \"number\",\n        \"std\": 1.224744871391589,\n        \"min\": 0.5,\n        \"max\": 4.0,\n        \"num_unique_values\": 8,\n        \"samples\": [\n          1.0,\n          3.0,\n          0.5\n        ],\n        \"semantic_type\": \"\",\n        \"description\": \"\"\n      }\n    },\n    {\n      \"column\": \"face\",\n      \"properties\": {\n        \"dtype\": \"number\",\n        \"std\": 416.61904489764817,\n        \"min\": 100.0,\n        \"max\": 1000.0,\n        \"num_unique_values\": 2,\n        \"samples\": [\n          1000.0,\n          100.0\n        ],\n        \"semantic_type\": \"\",\n        \"description\": \"\"\n      }\n    },\n    {\n      \"column\": \"period\",\n      \"properties\": {\n        \"dtype\": \"number\",\n        \"std\": 2.449489742783178,\n        \"min\": 1.0,\n        \"max\": 8.0,\n        \"num_unique_values\": 8,\n        \"samples\": [\n          2.0,\n          6.0\n        ],\n        \"semantic_type\": \"\",\n        \"description\": \"\"\n      }\n    }\n  ]\n}"
            }
          },
          "metadata": {},
          "execution_count": 31
        }
      ],
      "source": [
        "df = pd.DataFrame(bonds,\n",
        "        columns = ['price', 'coupon_rate', 'maturity','face'],\n",
        "        index=['A','B','C','D','E','F','G','H'])\n",
        "df['period'] = df.maturity*2\n",
        "df=df.reset_index()\n",
        "df.index = df.index+1\n",
        "df.columns = ['bond', 'price', 'coupon_rate', 'maturity','face', 'period']\n",
        "df"
      ]
    },
    {
      "cell_type": "markdown",
      "metadata": {
        "id": "GnyAfLIMKibf"
      },
      "source": [
        "### Functions to generalize bootstrapping and pricing"
      ]
    },
    {
      "cell_type": "code",
      "execution_count": 32,
      "metadata": {
        "outputId": "cf05f6dd-dd88-437e-b249-4c723c1f832f",
        "colab": {
          "base_uri": "https://localhost:8080/"
        },
        "id": "yqlY6SipKibf"
      },
      "outputs": [
        {
          "output_type": "execute_result",
          "data": {
            "text/plain": [
              "[0.02997219075084967,\n",
              " 0.029997764907275126,\n",
              " 0.0299992853016684,\n",
              " 0.030001502317938078,\n",
              " 0.030000812108414543,\n",
              " 0.030000926589999644,\n",
              " 0.029999294362616613,\n",
              " 0.030000336401881267]"
            ]
          },
          "metadata": {},
          "execution_count": 32
        }
      ],
      "source": [
        "def bootstrap(d, nop):\n",
        "    '''\n",
        "    d: a dataset with prices, face value, coupon_rate, period of maturity\n",
        "    nop: compounding period (ie., 1 = annual, 2=semiannual)\n",
        "    '''\n",
        "    spot_rates = []\n",
        "    for t in d.index:\n",
        "        p      = d.loc[t,'price']\n",
        "        face   = d.loc[t,'face']\n",
        "        cr     = d.loc[t,'coupon_rate']\n",
        "        period = int(d.loc[t,'period'])\n",
        "        coupon = face*cr/nop\n",
        "        cf_maturity = face + coupon\n",
        "\n",
        "        pv_coupons = 0.0\n",
        "        for i in range(period-1):\n",
        "            pv_coupons = pv_coupons + coupon / (1+spot_rates[i])**(i+1)\n",
        "        x = p - pv_coupons\n",
        "        z = (cf_maturity / x )**(1/period) - 1\n",
        "        spot_rates.append(z)\n",
        "    return spot_rates\n",
        "spot_curve = bootstrap(df,2)\n",
        "spot_curve"
      ]
    },
    {
      "cell_type": "code",
      "execution_count": 33,
      "metadata": {
        "outputId": "e670a8c8-8bb2-48cc-f182-29054bdfe19d",
        "colab": {
          "base_uri": "https://localhost:8080/"
        },
        "id": "N-j0GX5XKibf"
      },
      "outputs": [
        {
          "output_type": "execute_result",
          "data": {
            "text/plain": [
              "1140.3928282752777"
            ]
          },
          "metadata": {},
          "execution_count": 33
        }
      ],
      "source": [
        "def spot_pricer(cfs, spot):\n",
        "    '''\n",
        "    cfs:  list of cash flows at each period\n",
        "    spot: list of spot rates at each period\n",
        "    cfs should be the same length as spot\n",
        "    '''\n",
        "    cfs = np.array(cfs)\n",
        "    discount_factors = np.array([1/(1+spot[i])**(i+1) for i in range(len(spot))])\n",
        "    return cfs @ discount_factors\n",
        "spot_pricer([50,50,50,50,50,50,50,1050], spot_curve)"
      ]
    },
    {
      "cell_type": "code",
      "execution_count": 34,
      "metadata": {
        "outputId": "2421eedc-6516-4f22-e449-a0591e8a367c",
        "colab": {
          "base_uri": "https://localhost:8080/"
        },
        "id": "4floqZdmKibf"
      },
      "outputs": [
        {
          "output_type": "stream",
          "name": "stdout",
          "text": [
            "The bond cash flows for bond A are:  [100.   0.   0.   0.   0.   0.   0.   0.]\n",
            "The fair price for A is: $97.09\n"
          ]
        }
      ],
      "source": [
        "# Check that the prices are consistent with the spot curve\n",
        "\n",
        "# pick a bond\n",
        "BOND_ID = 'A'\n",
        "bond_dict = {'A': 1, 'B':2, 'C':3, 'D':4, 'E':5, 'F':6, 'G':7, 'H':8}\n",
        "def cf_generator(bond_id):\n",
        "    i = bond_dict[bond_id]\n",
        "    nop = 2\n",
        "    face   = df.loc[i,'face']\n",
        "    cr     = df.loc[i,'coupon_rate']\n",
        "    period = int(df.loc[i,'period'])\n",
        "    coupon = face*cr/nop\n",
        "    cf_maturity = face + coupon\n",
        "    cfs =  np.zeros(len(spot_curve))\n",
        "    for i in range(period-1):\n",
        "        cfs[i] = coupon\n",
        "    cfs[period-1] = cf_maturity\n",
        "    print('The bond cash flows for bond ' + bond_id + ' are: ', cfs)\n",
        "    return cfs\n",
        "cfs = cf_generator(BOND_ID)\n",
        "\n",
        "p = spot_pricer(cfs.tolist(),spot_curve)\n",
        "print('The fair price for ' + BOND_ID + f' is: ${p:,.2f}')\n"
      ]
    },
    {
      "cell_type": "markdown",
      "metadata": {
        "id": "1pXem57CKibf"
      },
      "source": [
        "### Arbitrage and replicating portfolio"
      ]
    },
    {
      "cell_type": "markdown",
      "metadata": {
        "id": "ieKLyvzFKibf"
      },
      "source": [
        "\n",
        "Example #1 (2-period bond)"
      ]
    },
    {
      "cell_type": "code",
      "execution_count": 35,
      "metadata": {
        "outputId": "6c2eb54a-3bb1-4f83-8cde-64f51ed4469b",
        "colab": {
          "base_uri": "https://localhost:8080/"
        },
        "id": "txb9paydKibf"
      },
      "outputs": [
        {
          "output_type": "execute_result",
          "data": {
            "text/plain": [
              "1140.3928282752777"
            ]
          },
          "metadata": {},
          "execution_count": 35
        }
      ],
      "source": [
        "spot_pricer([50,50,50,50,50,50,50,1050], spot_curve)"
      ]
    },
    {
      "cell_type": "markdown",
      "metadata": {
        "id": "53bYPGAEKibf"
      },
      "source": [
        "Example #2 (4-period bond)"
      ]
    },
    {
      "cell_type": "code",
      "execution_count": 36,
      "metadata": {
        "outputId": "6ab4bc93-0612-4fd1-cde9-c1d68fded8e2",
        "colab": {
          "base_uri": "https://localhost:8080/"
        },
        "id": "ctTICmX0Kibf"
      },
      "outputs": [
        {
          "output_type": "execute_result",
          "data": {
            "text/plain": [
              "array([  50,   50,   50,   50,   50,   50,   50, 1050])"
            ]
          },
          "metadata": {},
          "execution_count": 36
        }
      ],
      "source": [
        "# Target bond cash-flows\n",
        "cfs = np.array([50,50,50,50,50,50,50,1050])\n",
        "cfs"
      ]
    },
    {
      "cell_type": "code",
      "execution_count": 37,
      "metadata": {
        "outputId": "f6c1cdf5-479d-4b64-98ec-6ee67b3d9bc8",
        "colab": {
          "base_uri": "https://localhost:8080/"
        },
        "id": "9u3cI6iqKibf"
      },
      "outputs": [
        {
          "output_type": "stream",
          "name": "stdout",
          "text": [
            "0\n",
            "A\n",
            "The bond cash flows for bond A are:  [100.   0.   0.   0.   0.   0.   0.   0.]\n",
            "1\n",
            "B\n",
            "The bond cash flows for bond B are:  [  0. 100.   0.   0.   0.   0.   0.   0.]\n",
            "2\n",
            "C\n",
            "The bond cash flows for bond C are:  [  10.   10. 1010.    0.    0.    0.    0.    0.]\n",
            "3\n",
            "D\n",
            "The bond cash flows for bond D are:  [  25.   25.   25. 1025.    0.    0.    0.    0.]\n",
            "4\n",
            "E\n",
            "The bond cash flows for bond E are:  [  20.   20.   20.   20. 1020.    0.    0.    0.]\n",
            "5\n",
            "F\n",
            "The bond cash flows for bond F are:  [  25.   25.   25.   25.   25. 1025.    0.    0.]\n",
            "6\n",
            "G\n",
            "The bond cash flows for bond G are:  [  15.   15.   15.   15.   15.   15. 1015.    0.]\n",
            "7\n",
            "H\n",
            "The bond cash flows for bond H are:  [  25.   25.   25.   25.   25.   25.   25. 1025.]\n"
          ]
        },
        {
          "output_type": "execute_result",
          "data": {
            "text/plain": [
              "array([[ 100.,    0.,    0.,    0.,    0.,    0.,    0.,    0.],\n",
              "       [   0.,  100.,    0.,    0.,    0.,    0.,    0.,    0.],\n",
              "       [  10.,   10., 1010.,    0.,    0.,    0.,    0.,    0.],\n",
              "       [  25.,   25.,   25., 1025.,    0.,    0.,    0.,    0.],\n",
              "       [  20.,   20.,   20.,   20., 1020.,    0.,    0.,    0.],\n",
              "       [  25.,   25.,   25.,   25.,   25., 1025.,    0.,    0.],\n",
              "       [  15.,   15.,   15.,   15.,   15.,   15., 1015.,    0.],\n",
              "       [  25.,   25.,   25.,   25.,   25.,   25.,   25., 1025.]])"
            ]
          },
          "metadata": {},
          "execution_count": 37
        }
      ],
      "source": [
        "# matrix of cash flows for bonds A-D\n",
        "CF = np.zeros((len(df), len(df)))\n",
        "for j, id in enumerate(['A','B','C','D','E','F','G','H']):\n",
        "    print(j)\n",
        "    print(id)\n",
        "    CF[j] = cf_generator(id)\n",
        "CF"
      ]
    },
    {
      "cell_type": "code",
      "execution_count": 38,
      "metadata": {
        "outputId": "aa2248f8-e9cf-4a70-e0ff-82eb4c63a542",
        "colab": {
          "base_uri": "https://localhost:8080/"
        },
        "id": "rWMdtGPFKibf"
      },
      "outputs": [
        {
          "output_type": "execute_result",
          "data": {
            "text/plain": [
              "array([0.22201424, 0.22201424, 0.02220142, 0.02242344, 0.02298402,\n",
              "       0.0234437 , 0.0240298 , 1.02439024])"
            ]
          },
          "metadata": {},
          "execution_count": 38
        }
      ],
      "source": [
        "# Solve the system of equations\n",
        "portfolio = cfs @ np.linalg.pinv(CF)\n",
        "portfolio"
      ]
    },
    {
      "cell_type": "code",
      "execution_count": 39,
      "metadata": {
        "outputId": "b0c917a0-7af9-4cbb-9728-6f58684388ec",
        "colab": {
          "base_uri": "https://localhost:8080/"
        },
        "id": "it8SuD5WKibf"
      },
      "outputs": [
        {
          "output_type": "execute_result",
          "data": {
            "text/plain": [
              "array([  50,   50,   50,   50,   50,   49,   49, 1049])"
            ]
          },
          "metadata": {},
          "execution_count": 39
        }
      ],
      "source": [
        "# Check that replicating portfolio delivers same cash flows\n",
        "repl_cfs = portfolio @ CF\n",
        "repl_cfs.astype(int)"
      ]
    },
    {
      "cell_type": "code",
      "execution_count": 40,
      "metadata": {
        "outputId": "9f3c52fd-6a27-4b48-c4ab-3d5a5aaf325a",
        "colab": {
          "base_uri": "https://localhost:8080/"
        },
        "id": "Ee0-gIH4Kibf"
      },
      "outputs": [
        {
          "output_type": "execute_result",
          "data": {
            "text/plain": [
              "1140.3928282752777"
            ]
          },
          "metadata": {},
          "execution_count": 40
        }
      ],
      "source": [
        "# Price of replicating portfolio\n",
        "repl_price = portfolio @ df.price\n",
        "repl_price"
      ]
    },
    {
      "cell_type": "code",
      "execution_count": 74,
      "metadata": {
        "outputId": "0fe618d3-b957-445b-f88a-8b305374ef5f",
        "colab": {
          "base_uri": "https://localhost:8080/"
        },
        "id": "4uhdy-jgKibg"
      },
      "outputs": [
        {
          "output_type": "execute_result",
          "data": {
            "text/plain": [
              "130.39282827527768"
            ]
          },
          "metadata": {},
          "execution_count": 74
        }
      ],
      "source": [
        "profit = repl_price-1010\n",
        "profit"
      ]
    },
    {
      "cell_type": "code",
      "source": [],
      "metadata": {
        "id": "UCWxnfk_LERb"
      },
      "execution_count": null,
      "outputs": []
    },
    {
      "cell_type": "code",
      "source": [],
      "metadata": {
        "id": "MLhueRiVQqyo"
      },
      "execution_count": null,
      "outputs": []
    },
    {
      "cell_type": "code",
      "source": [
        "#jonathans#"
      ],
      "metadata": {
        "id": "zqdVf_dwQrEk"
      },
      "execution_count": null,
      "outputs": []
    },
    {
      "cell_type": "code",
      "execution_count": 79,
      "metadata": {
        "id": "PeUjHNpPQrQg"
      },
      "outputs": [],
      "source": [
        "A = [ 97.09,      0, 0.5, 100]\n",
        "B = [ 94.26,      0, 1.0, 100]\n",
        "C = [943.43,   0.02, 1.5, 1000]\n",
        "D = [981.41,   0.05, 2.0, 1000]\n",
        "E = [954.20,   0.04, 2.5, 1000]\n",
        "F = [972.91,   0.05, 3.0, 1000]\n",
        "bonds = np.row_stack((A, B, C, D, E, F))"
      ]
    },
    {
      "cell_type": "code",
      "execution_count": 80,
      "metadata": {
        "colab": {
          "base_uri": "https://localhost:8080/",
          "height": 238
        },
        "outputId": "780151c5-693b-41c2-f350-4e7a7b95776f",
        "id": "7BPpKPsNQrQg"
      },
      "outputs": [
        {
          "output_type": "execute_result",
          "data": {
            "text/plain": [
              "  bond   price  coupon_rate  maturity    face  period\n",
              "1    A   97.09         0.00       0.5   100.0     1.0\n",
              "2    B   94.26         0.00       1.0   100.0     2.0\n",
              "3    C  943.43         0.02       1.5  1000.0     3.0\n",
              "4    D  981.41         0.05       2.0  1000.0     4.0\n",
              "5    E  954.20         0.04       2.5  1000.0     5.0\n",
              "6    F  972.91         0.05       3.0  1000.0     6.0"
            ],
            "text/html": [
              "\n",
              "  <div id=\"df-ea73b4ea-c94f-4e02-b571-134b344919f5\" class=\"colab-df-container\">\n",
              "    <div>\n",
              "<style scoped>\n",
              "    .dataframe tbody tr th:only-of-type {\n",
              "        vertical-align: middle;\n",
              "    }\n",
              "\n",
              "    .dataframe tbody tr th {\n",
              "        vertical-align: top;\n",
              "    }\n",
              "\n",
              "    .dataframe thead th {\n",
              "        text-align: right;\n",
              "    }\n",
              "</style>\n",
              "<table border=\"1\" class=\"dataframe\">\n",
              "  <thead>\n",
              "    <tr style=\"text-align: right;\">\n",
              "      <th></th>\n",
              "      <th>bond</th>\n",
              "      <th>price</th>\n",
              "      <th>coupon_rate</th>\n",
              "      <th>maturity</th>\n",
              "      <th>face</th>\n",
              "      <th>period</th>\n",
              "    </tr>\n",
              "  </thead>\n",
              "  <tbody>\n",
              "    <tr>\n",
              "      <th>1</th>\n",
              "      <td>A</td>\n",
              "      <td>97.09</td>\n",
              "      <td>0.00</td>\n",
              "      <td>0.5</td>\n",
              "      <td>100.0</td>\n",
              "      <td>1.0</td>\n",
              "    </tr>\n",
              "    <tr>\n",
              "      <th>2</th>\n",
              "      <td>B</td>\n",
              "      <td>94.26</td>\n",
              "      <td>0.00</td>\n",
              "      <td>1.0</td>\n",
              "      <td>100.0</td>\n",
              "      <td>2.0</td>\n",
              "    </tr>\n",
              "    <tr>\n",
              "      <th>3</th>\n",
              "      <td>C</td>\n",
              "      <td>943.43</td>\n",
              "      <td>0.02</td>\n",
              "      <td>1.5</td>\n",
              "      <td>1000.0</td>\n",
              "      <td>3.0</td>\n",
              "    </tr>\n",
              "    <tr>\n",
              "      <th>4</th>\n",
              "      <td>D</td>\n",
              "      <td>981.41</td>\n",
              "      <td>0.05</td>\n",
              "      <td>2.0</td>\n",
              "      <td>1000.0</td>\n",
              "      <td>4.0</td>\n",
              "    </tr>\n",
              "    <tr>\n",
              "      <th>5</th>\n",
              "      <td>E</td>\n",
              "      <td>954.20</td>\n",
              "      <td>0.04</td>\n",
              "      <td>2.5</td>\n",
              "      <td>1000.0</td>\n",
              "      <td>5.0</td>\n",
              "    </tr>\n",
              "    <tr>\n",
              "      <th>6</th>\n",
              "      <td>F</td>\n",
              "      <td>972.91</td>\n",
              "      <td>0.05</td>\n",
              "      <td>3.0</td>\n",
              "      <td>1000.0</td>\n",
              "      <td>6.0</td>\n",
              "    </tr>\n",
              "  </tbody>\n",
              "</table>\n",
              "</div>\n",
              "    <div class=\"colab-df-buttons\">\n",
              "\n",
              "  <div class=\"colab-df-container\">\n",
              "    <button class=\"colab-df-convert\" onclick=\"convertToInteractive('df-ea73b4ea-c94f-4e02-b571-134b344919f5')\"\n",
              "            title=\"Convert this dataframe to an interactive table.\"\n",
              "            style=\"display:none;\">\n",
              "\n",
              "  <svg xmlns=\"http://www.w3.org/2000/svg\" height=\"24px\" viewBox=\"0 -960 960 960\">\n",
              "    <path d=\"M120-120v-720h720v720H120Zm60-500h600v-160H180v160Zm220 220h160v-160H400v160Zm0 220h160v-160H400v160ZM180-400h160v-160H180v160Zm440 0h160v-160H620v160ZM180-180h160v-160H180v160Zm440 0h160v-160H620v160Z\"/>\n",
              "  </svg>\n",
              "    </button>\n",
              "\n",
              "  <style>\n",
              "    .colab-df-container {\n",
              "      display:flex;\n",
              "      gap: 12px;\n",
              "    }\n",
              "\n",
              "    .colab-df-convert {\n",
              "      background-color: #E8F0FE;\n",
              "      border: none;\n",
              "      border-radius: 50%;\n",
              "      cursor: pointer;\n",
              "      display: none;\n",
              "      fill: #1967D2;\n",
              "      height: 32px;\n",
              "      padding: 0 0 0 0;\n",
              "      width: 32px;\n",
              "    }\n",
              "\n",
              "    .colab-df-convert:hover {\n",
              "      background-color: #E2EBFA;\n",
              "      box-shadow: 0px 1px 2px rgba(60, 64, 67, 0.3), 0px 1px 3px 1px rgba(60, 64, 67, 0.15);\n",
              "      fill: #174EA6;\n",
              "    }\n",
              "\n",
              "    .colab-df-buttons div {\n",
              "      margin-bottom: 4px;\n",
              "    }\n",
              "\n",
              "    [theme=dark] .colab-df-convert {\n",
              "      background-color: #3B4455;\n",
              "      fill: #D2E3FC;\n",
              "    }\n",
              "\n",
              "    [theme=dark] .colab-df-convert:hover {\n",
              "      background-color: #434B5C;\n",
              "      box-shadow: 0px 1px 3px 1px rgba(0, 0, 0, 0.15);\n",
              "      filter: drop-shadow(0px 1px 2px rgba(0, 0, 0, 0.3));\n",
              "      fill: #FFFFFF;\n",
              "    }\n",
              "  </style>\n",
              "\n",
              "    <script>\n",
              "      const buttonEl =\n",
              "        document.querySelector('#df-ea73b4ea-c94f-4e02-b571-134b344919f5 button.colab-df-convert');\n",
              "      buttonEl.style.display =\n",
              "        google.colab.kernel.accessAllowed ? 'block' : 'none';\n",
              "\n",
              "      async function convertToInteractive(key) {\n",
              "        const element = document.querySelector('#df-ea73b4ea-c94f-4e02-b571-134b344919f5');\n",
              "        const dataTable =\n",
              "          await google.colab.kernel.invokeFunction('convertToInteractive',\n",
              "                                                    [key], {});\n",
              "        if (!dataTable) return;\n",
              "\n",
              "        const docLinkHtml = 'Like what you see? Visit the ' +\n",
              "          '<a target=\"_blank\" href=https://colab.research.google.com/notebooks/data_table.ipynb>data table notebook</a>'\n",
              "          + ' to learn more about interactive tables.';\n",
              "        element.innerHTML = '';\n",
              "        dataTable['output_type'] = 'display_data';\n",
              "        await google.colab.output.renderOutput(dataTable, element);\n",
              "        const docLink = document.createElement('div');\n",
              "        docLink.innerHTML = docLinkHtml;\n",
              "        element.appendChild(docLink);\n",
              "      }\n",
              "    </script>\n",
              "  </div>\n",
              "\n",
              "\n",
              "<div id=\"df-24e4c332-8bd9-40f1-8b69-6a77e0afe53b\">\n",
              "  <button class=\"colab-df-quickchart\" onclick=\"quickchart('df-24e4c332-8bd9-40f1-8b69-6a77e0afe53b')\"\n",
              "            title=\"Suggest charts\"\n",
              "            style=\"display:none;\">\n",
              "\n",
              "<svg xmlns=\"http://www.w3.org/2000/svg\" height=\"24px\"viewBox=\"0 0 24 24\"\n",
              "     width=\"24px\">\n",
              "    <g>\n",
              "        <path d=\"M19 3H5c-1.1 0-2 .9-2 2v14c0 1.1.9 2 2 2h14c1.1 0 2-.9 2-2V5c0-1.1-.9-2-2-2zM9 17H7v-7h2v7zm4 0h-2V7h2v10zm4 0h-2v-4h2v4z\"/>\n",
              "    </g>\n",
              "</svg>\n",
              "  </button>\n",
              "\n",
              "<style>\n",
              "  .colab-df-quickchart {\n",
              "      --bg-color: #E8F0FE;\n",
              "      --fill-color: #1967D2;\n",
              "      --hover-bg-color: #E2EBFA;\n",
              "      --hover-fill-color: #174EA6;\n",
              "      --disabled-fill-color: #AAA;\n",
              "      --disabled-bg-color: #DDD;\n",
              "  }\n",
              "\n",
              "  [theme=dark] .colab-df-quickchart {\n",
              "      --bg-color: #3B4455;\n",
              "      --fill-color: #D2E3FC;\n",
              "      --hover-bg-color: #434B5C;\n",
              "      --hover-fill-color: #FFFFFF;\n",
              "      --disabled-bg-color: #3B4455;\n",
              "      --disabled-fill-color: #666;\n",
              "  }\n",
              "\n",
              "  .colab-df-quickchart {\n",
              "    background-color: var(--bg-color);\n",
              "    border: none;\n",
              "    border-radius: 50%;\n",
              "    cursor: pointer;\n",
              "    display: none;\n",
              "    fill: var(--fill-color);\n",
              "    height: 32px;\n",
              "    padding: 0;\n",
              "    width: 32px;\n",
              "  }\n",
              "\n",
              "  .colab-df-quickchart:hover {\n",
              "    background-color: var(--hover-bg-color);\n",
              "    box-shadow: 0 1px 2px rgba(60, 64, 67, 0.3), 0 1px 3px 1px rgba(60, 64, 67, 0.15);\n",
              "    fill: var(--button-hover-fill-color);\n",
              "  }\n",
              "\n",
              "  .colab-df-quickchart-complete:disabled,\n",
              "  .colab-df-quickchart-complete:disabled:hover {\n",
              "    background-color: var(--disabled-bg-color);\n",
              "    fill: var(--disabled-fill-color);\n",
              "    box-shadow: none;\n",
              "  }\n",
              "\n",
              "  .colab-df-spinner {\n",
              "    border: 2px solid var(--fill-color);\n",
              "    border-color: transparent;\n",
              "    border-bottom-color: var(--fill-color);\n",
              "    animation:\n",
              "      spin 1s steps(1) infinite;\n",
              "  }\n",
              "\n",
              "  @keyframes spin {\n",
              "    0% {\n",
              "      border-color: transparent;\n",
              "      border-bottom-color: var(--fill-color);\n",
              "      border-left-color: var(--fill-color);\n",
              "    }\n",
              "    20% {\n",
              "      border-color: transparent;\n",
              "      border-left-color: var(--fill-color);\n",
              "      border-top-color: var(--fill-color);\n",
              "    }\n",
              "    30% {\n",
              "      border-color: transparent;\n",
              "      border-left-color: var(--fill-color);\n",
              "      border-top-color: var(--fill-color);\n",
              "      border-right-color: var(--fill-color);\n",
              "    }\n",
              "    40% {\n",
              "      border-color: transparent;\n",
              "      border-right-color: var(--fill-color);\n",
              "      border-top-color: var(--fill-color);\n",
              "    }\n",
              "    60% {\n",
              "      border-color: transparent;\n",
              "      border-right-color: var(--fill-color);\n",
              "    }\n",
              "    80% {\n",
              "      border-color: transparent;\n",
              "      border-right-color: var(--fill-color);\n",
              "      border-bottom-color: var(--fill-color);\n",
              "    }\n",
              "    90% {\n",
              "      border-color: transparent;\n",
              "      border-bottom-color: var(--fill-color);\n",
              "    }\n",
              "  }\n",
              "</style>\n",
              "\n",
              "  <script>\n",
              "    async function quickchart(key) {\n",
              "      const quickchartButtonEl =\n",
              "        document.querySelector('#' + key + ' button');\n",
              "      quickchartButtonEl.disabled = true;  // To prevent multiple clicks.\n",
              "      quickchartButtonEl.classList.add('colab-df-spinner');\n",
              "      try {\n",
              "        const charts = await google.colab.kernel.invokeFunction(\n",
              "            'suggestCharts', [key], {});\n",
              "      } catch (error) {\n",
              "        console.error('Error during call to suggestCharts:', error);\n",
              "      }\n",
              "      quickchartButtonEl.classList.remove('colab-df-spinner');\n",
              "      quickchartButtonEl.classList.add('colab-df-quickchart-complete');\n",
              "    }\n",
              "    (() => {\n",
              "      let quickchartButtonEl =\n",
              "        document.querySelector('#df-24e4c332-8bd9-40f1-8b69-6a77e0afe53b button');\n",
              "      quickchartButtonEl.style.display =\n",
              "        google.colab.kernel.accessAllowed ? 'block' : 'none';\n",
              "    })();\n",
              "  </script>\n",
              "</div>\n",
              "\n",
              "  <div id=\"id_1b611623-09aa-4740-9442-bdef90fcd05b\">\n",
              "    <style>\n",
              "      .colab-df-generate {\n",
              "        background-color: #E8F0FE;\n",
              "        border: none;\n",
              "        border-radius: 50%;\n",
              "        cursor: pointer;\n",
              "        display: none;\n",
              "        fill: #1967D2;\n",
              "        height: 32px;\n",
              "        padding: 0 0 0 0;\n",
              "        width: 32px;\n",
              "      }\n",
              "\n",
              "      .colab-df-generate:hover {\n",
              "        background-color: #E2EBFA;\n",
              "        box-shadow: 0px 1px 2px rgba(60, 64, 67, 0.3), 0px 1px 3px 1px rgba(60, 64, 67, 0.15);\n",
              "        fill: #174EA6;\n",
              "      }\n",
              "\n",
              "      [theme=dark] .colab-df-generate {\n",
              "        background-color: #3B4455;\n",
              "        fill: #D2E3FC;\n",
              "      }\n",
              "\n",
              "      [theme=dark] .colab-df-generate:hover {\n",
              "        background-color: #434B5C;\n",
              "        box-shadow: 0px 1px 3px 1px rgba(0, 0, 0, 0.15);\n",
              "        filter: drop-shadow(0px 1px 2px rgba(0, 0, 0, 0.3));\n",
              "        fill: #FFFFFF;\n",
              "      }\n",
              "    </style>\n",
              "    <button class=\"colab-df-generate\" onclick=\"generateWithVariable('df')\"\n",
              "            title=\"Generate code using this dataframe.\"\n",
              "            style=\"display:none;\">\n",
              "\n",
              "  <svg xmlns=\"http://www.w3.org/2000/svg\" height=\"24px\"viewBox=\"0 0 24 24\"\n",
              "       width=\"24px\">\n",
              "    <path d=\"M7,19H8.4L18.45,9,17,7.55,7,17.6ZM5,21V16.75L18.45,3.32a2,2,0,0,1,2.83,0l1.4,1.43a1.91,1.91,0,0,1,.58,1.4,1.91,1.91,0,0,1-.58,1.4L9.25,21ZM18.45,9,17,7.55Zm-12,3A5.31,5.31,0,0,0,4.9,8.1,5.31,5.31,0,0,0,1,6.5,5.31,5.31,0,0,0,4.9,4.9,5.31,5.31,0,0,0,6.5,1,5.31,5.31,0,0,0,8.1,4.9,5.31,5.31,0,0,0,12,6.5,5.46,5.46,0,0,0,6.5,12Z\"/>\n",
              "  </svg>\n",
              "    </button>\n",
              "    <script>\n",
              "      (() => {\n",
              "      const buttonEl =\n",
              "        document.querySelector('#id_1b611623-09aa-4740-9442-bdef90fcd05b button.colab-df-generate');\n",
              "      buttonEl.style.display =\n",
              "        google.colab.kernel.accessAllowed ? 'block' : 'none';\n",
              "\n",
              "      buttonEl.onclick = () => {\n",
              "        google.colab.notebook.generateWithVariable('df');\n",
              "      }\n",
              "      })();\n",
              "    </script>\n",
              "  </div>\n",
              "\n",
              "    </div>\n",
              "  </div>\n"
            ],
            "application/vnd.google.colaboratory.intrinsic+json": {
              "type": "dataframe",
              "variable_name": "df",
              "summary": "{\n  \"name\": \"df\",\n  \"rows\": 6,\n  \"fields\": [\n    {\n      \"column\": \"bond\",\n      \"properties\": {\n        \"dtype\": \"string\",\n        \"num_unique_values\": 6,\n        \"samples\": [\n          \"A\",\n          \"B\",\n          \"F\"\n        ],\n        \"semantic_type\": \"\",\n        \"description\": \"\"\n      }\n    },\n    {\n      \"column\": \"price\",\n      \"properties\": {\n        \"dtype\": \"number\",\n        \"std\": 448.07950078827156,\n        \"min\": 94.26,\n        \"max\": 981.41,\n        \"num_unique_values\": 6,\n        \"samples\": [\n          97.09,\n          94.26,\n          972.91\n        ],\n        \"semantic_type\": \"\",\n        \"description\": \"\"\n      }\n    },\n    {\n      \"column\": \"coupon_rate\",\n      \"properties\": {\n        \"dtype\": \"number\",\n        \"std\": 0.023380903889000243,\n        \"min\": 0.0,\n        \"max\": 0.05,\n        \"num_unique_values\": 4,\n        \"samples\": [\n          0.02,\n          0.04,\n          0.0\n        ],\n        \"semantic_type\": \"\",\n        \"description\": \"\"\n      }\n    },\n    {\n      \"column\": \"maturity\",\n      \"properties\": {\n        \"dtype\": \"number\",\n        \"std\": 0.9354143466934853,\n        \"min\": 0.5,\n        \"max\": 3.0,\n        \"num_unique_values\": 6,\n        \"samples\": [\n          0.5,\n          1.0,\n          3.0\n        ],\n        \"semantic_type\": \"\",\n        \"description\": \"\"\n      }\n    },\n    {\n      \"column\": \"face\",\n      \"properties\": {\n        \"dtype\": \"number\",\n        \"std\": 464.75800154489,\n        \"min\": 100.0,\n        \"max\": 1000.0,\n        \"num_unique_values\": 2,\n        \"samples\": [\n          1000.0,\n          100.0\n        ],\n        \"semantic_type\": \"\",\n        \"description\": \"\"\n      }\n    },\n    {\n      \"column\": \"period\",\n      \"properties\": {\n        \"dtype\": \"number\",\n        \"std\": 1.8708286933869707,\n        \"min\": 1.0,\n        \"max\": 6.0,\n        \"num_unique_values\": 6,\n        \"samples\": [\n          1.0,\n          2.0\n        ],\n        \"semantic_type\": \"\",\n        \"description\": \"\"\n      }\n    }\n  ]\n}"
            }
          },
          "metadata": {},
          "execution_count": 80
        }
      ],
      "source": [
        "df = pd.DataFrame(bonds,\n",
        "        columns = ['price', 'coupon_rate', 'maturity','face'],\n",
        "        index=['A','B','C','D','E','F'])\n",
        "df['period'] = df.maturity*2\n",
        "df=df.reset_index()\n",
        "df.index = df.index+1\n",
        "df.columns = ['bond', 'price', 'coupon_rate', 'maturity','face', 'period']\n",
        "df"
      ]
    },
    {
      "cell_type": "markdown",
      "metadata": {
        "id": "ninw4uzPQrQh"
      },
      "source": [
        "### Functions to generalize bootstrapping and pricing"
      ]
    },
    {
      "cell_type": "code",
      "execution_count": 81,
      "metadata": {
        "colab": {
          "base_uri": "https://localhost:8080/"
        },
        "outputId": "91cdbdf9-5dfa-4da4-9548-3e279e1ff757",
        "id": "t0zNjGHzQrQh"
      },
      "outputs": [
        {
          "output_type": "execute_result",
          "data": {
            "text/plain": [
              "[0.02997219075084967,\n",
              " 0.029997764907275126,\n",
              " 0.0299992853016684,\n",
              " 0.030001502317938078,\n",
              " 0.030000812108414543,\n",
              " 0.030000926589999644]"
            ]
          },
          "metadata": {},
          "execution_count": 81
        }
      ],
      "source": [
        "def bootstrap(d, nop):\n",
        "    '''\n",
        "    d: a dataset with prices, face value, coupon_rate, period of maturity\n",
        "    nop: compounding period (ie., 1 = annual, 2=semiannual)\n",
        "    '''\n",
        "    spot_rates = []\n",
        "    for t in d.index:\n",
        "        p      = d.loc[t,'price']\n",
        "        face   = d.loc[t,'face']\n",
        "        cr     = d.loc[t,'coupon_rate']\n",
        "        period = int(d.loc[t,'period'])\n",
        "        coupon = face*cr/nop\n",
        "        cf_maturity = face + coupon\n",
        "\n",
        "        pv_coupons = 0.0\n",
        "        for i in range(period-1):\n",
        "            pv_coupons = pv_coupons + coupon / (1+spot_rates[i])**(i+1)\n",
        "        x = p - pv_coupons\n",
        "        z = (cf_maturity / x )**(1/period) - 1\n",
        "        spot_rates.append(z)\n",
        "    return spot_rates\n",
        "spot_curve = bootstrap(df,2)\n",
        "spot_curve"
      ]
    },
    {
      "cell_type": "code",
      "execution_count": 82,
      "metadata": {
        "colab": {
          "base_uri": "https://localhost:8080/"
        },
        "outputId": "08552b38-0c1b-4e33-b462-0786eca1f65a",
        "id": "xxfS82VLQrQh"
      },
      "outputs": [
        {
          "output_type": "execute_result",
          "data": {
            "text/plain": [
              "944.222200305792"
            ]
          },
          "metadata": {},
          "execution_count": 82
        }
      ],
      "source": [
        "def spot_pricer(cfs, spot):\n",
        "    '''\n",
        "    cfs:  list of cash flows at each period\n",
        "    spot: list of spot rates at each period\n",
        "    cfs should be the same length as spot\n",
        "    '''\n",
        "    cfs = np.array(cfs)\n",
        "    discount_factors = np.array([1/(1+spot[i])**(i+1) for i in range(len(spot))])\n",
        "    return cfs @ discount_factors\n",
        "spot_pricer([0,70,0,70,0,1070], spot_curve)"
      ]
    },
    {
      "cell_type": "code",
      "execution_count": 83,
      "metadata": {
        "colab": {
          "base_uri": "https://localhost:8080/"
        },
        "outputId": "73e4a214-23f9-4bd5-a049-707098367af9",
        "id": "3V1QzjGRQrQh"
      },
      "outputs": [
        {
          "output_type": "stream",
          "name": "stdout",
          "text": [
            "The bond cash flows for bond A are:  [100.   0.   0.   0.   0.   0.]\n",
            "The fair price for A is: $97.09\n"
          ]
        }
      ],
      "source": [
        "# Check that the prices are consistent with the spot curve\n",
        "\n",
        "# pick a bond\n",
        "BOND_ID = 'A'\n",
        "bond_dict = {'A': 1, 'B':2, 'C':3, 'D':4, 'E':5, 'F':6}\n",
        "def cf_generator(bond_id):\n",
        "    i = bond_dict[bond_id]\n",
        "    nop = 2\n",
        "    face   = df.loc[i,'face']\n",
        "    cr     = df.loc[i,'coupon_rate']\n",
        "    period = int(df.loc[i,'period'])\n",
        "    coupon = face*cr/nop\n",
        "    cf_maturity = face + coupon\n",
        "    cfs =  np.zeros(len(spot_curve))\n",
        "    for i in range(period-1):\n",
        "        cfs[i] = coupon\n",
        "    cfs[period-1] = cf_maturity\n",
        "    print('The bond cash flows for bond ' + bond_id + ' are: ', cfs)\n",
        "    return cfs\n",
        "cfs = cf_generator(BOND_ID)\n",
        "\n",
        "p = spot_pricer(cfs.tolist(),spot_curve)\n",
        "print('The fair price for ' + BOND_ID + f' is: ${p:,.2f}')\n"
      ]
    },
    {
      "cell_type": "markdown",
      "metadata": {
        "id": "ll63bUOXQrQh"
      },
      "source": [
        "### Arbitrage and replicating portfolio"
      ]
    },
    {
      "cell_type": "markdown",
      "metadata": {
        "id": "vkPG3QZfQrQh"
      },
      "source": [
        "\n",
        "Example #1 (2-period bond)"
      ]
    },
    {
      "cell_type": "code",
      "execution_count": 92,
      "metadata": {
        "colab": {
          "base_uri": "https://localhost:8080/"
        },
        "outputId": "fa00db2d-7004-482d-bea8-c1b6aaeed891",
        "id": "R_bDY3PmQrQh"
      },
      "outputs": [
        {
          "output_type": "execute_result",
          "data": {
            "text/plain": [
              "1024.2790483228048"
            ]
          },
          "metadata": {},
          "execution_count": 92
        }
      ],
      "source": [
        "spot_pricer([0,70,0,70,0,1070], spot_curve)"
      ]
    },
    {
      "cell_type": "markdown",
      "metadata": {
        "id": "VBZ865YVQrQh"
      },
      "source": [
        "Example #2 (4-period bond)"
      ]
    },
    {
      "cell_type": "code",
      "execution_count": 100,
      "metadata": {
        "colab": {
          "base_uri": "https://localhost:8080/"
        },
        "outputId": "69494a6e-52f1-43a1-9b6a-905b65d19283",
        "id": "8VD7c_OhQrQi"
      },
      "outputs": [
        {
          "output_type": "execute_result",
          "data": {
            "text/plain": [
              "array([   0,   70,    0,   70,    0, 1070])"
            ]
          },
          "metadata": {},
          "execution_count": 100
        }
      ],
      "source": [
        "# Target bond cash-flows\n",
        "cfs = np.array([0,70,0,70,0,1070])\n",
        "cfs"
      ]
    },
    {
      "cell_type": "code",
      "execution_count": 101,
      "metadata": {
        "colab": {
          "base_uri": "https://localhost:8080/"
        },
        "outputId": "ee021a4f-9cd9-4e48-b3e1-a04a2f0942b7",
        "id": "2BeM2aozQrQi"
      },
      "outputs": [
        {
          "output_type": "stream",
          "name": "stdout",
          "text": [
            "0\n",
            "A\n",
            "The bond cash flows for bond A are:  [100.   0.   0.   0.   0.   0.]\n",
            "1\n",
            "B\n",
            "The bond cash flows for bond B are:  [  0. 100.   0.   0.   0.   0.]\n",
            "2\n",
            "C\n",
            "The bond cash flows for bond C are:  [  10.   10. 1010.    0.    0.    0.]\n",
            "3\n",
            "D\n",
            "The bond cash flows for bond D are:  [  25.   25.   25. 1025.    0.    0.]\n",
            "4\n",
            "E\n",
            "The bond cash flows for bond E are:  [  20.   20.   20.   20. 1020.    0.]\n",
            "5\n",
            "F\n",
            "The bond cash flows for bond F are:  [  25.   25.   25.   25.   25. 1025.]\n"
          ]
        },
        {
          "output_type": "execute_result",
          "data": {
            "text/plain": [
              "array([[ 100.,    0.,    0.,    0.,    0.,    0.],\n",
              "       [   0.,  100.,    0.,    0.,    0.,    0.],\n",
              "       [  10.,   10., 1010.,    0.,    0.,    0.],\n",
              "       [  25.,   25.,   25., 1025.,    0.,    0.],\n",
              "       [  20.,   20.,   20.,   20., 1020.,    0.],\n",
              "       [  25.,   25.,   25.,   25.,   25., 1025.]])"
            ]
          },
          "metadata": {},
          "execution_count": 101
        }
      ],
      "source": [
        "# matrix of cash flows for bonds A-D\n",
        "CF = np.zeros((len(df), len(df)))\n",
        "for j, id in enumerate(['A','B','C','D','E','F']):\n",
        "    print(j)\n",
        "    print(id)\n",
        "    CF[j] = cf_generator(id)\n",
        "CF"
      ]
    },
    {
      "cell_type": "code",
      "execution_count": 102,
      "metadata": {
        "colab": {
          "base_uri": "https://localhost:8080/"
        },
        "outputId": "580b7068-9154-47ad-e986-2ec4ccc9cc1c",
        "id": "YtkDcs9-QrQi"
      },
      "outputs": [
        {
          "output_type": "execute_result",
          "data": {
            "text/plain": [
              "array([-0.26405066,  0.43594934, -0.02640507,  0.04333088, -0.02558584,\n",
              "        1.04390244])"
            ]
          },
          "metadata": {},
          "execution_count": 102
        }
      ],
      "source": [
        "# Solve the system of equations\n",
        "portfolio = cfs @ np.linalg.pinv(CF)\n",
        "portfolio"
      ]
    },
    {
      "cell_type": "code",
      "execution_count": 103,
      "metadata": {
        "colab": {
          "base_uri": "https://localhost:8080/"
        },
        "outputId": "8501413f-8e04-4985-fc03-c6c75af325c5",
        "id": "23t29-axQrQi"
      },
      "outputs": [
        {
          "output_type": "execute_result",
          "data": {
            "text/plain": [
              "array([   0,   70,    0,   69,    0, 1069])"
            ]
          },
          "metadata": {},
          "execution_count": 103
        }
      ],
      "source": [
        "# Check that replicating portfolio delivers same cash flows\n",
        "repl_cfs = portfolio @ CF\n",
        "repl_cfs.astype(int)"
      ]
    },
    {
      "cell_type": "code",
      "execution_count": 104,
      "metadata": {
        "colab": {
          "base_uri": "https://localhost:8080/"
        },
        "outputId": "bb921ec4-54d7-424f-ada7-f613e71927d0",
        "id": "_C07ADICQrQi"
      },
      "outputs": [
        {
          "output_type": "execute_result",
          "data": {
            "text/plain": [
              "1024.2790483228023"
            ]
          },
          "metadata": {},
          "execution_count": 104
        }
      ],
      "source": [
        "# Price of replicating portfolio\n",
        "repl_price = portfolio @ df.price\n",
        "repl_price"
      ]
    },
    {
      "cell_type": "code",
      "execution_count": 105,
      "metadata": {
        "colab": {
          "base_uri": "https://localhost:8080/"
        },
        "outputId": "a2d02e21-6a2b-448c-ee62-d166860cc84e",
        "id": "PyMeygFtQrQi"
      },
      "outputs": [
        {
          "output_type": "execute_result",
          "data": {
            "text/plain": [
              "-25.720951677197718"
            ]
          },
          "metadata": {},
          "execution_count": 105
        }
      ],
      "source": [
        "profit = repl_price-1050\n",
        "profit"
      ]
    },
    {
      "cell_type": "code",
      "source": [],
      "metadata": {
        "id": "WlRR39aNQ9ec"
      },
      "execution_count": 105,
      "outputs": []
    }
  ],
  "metadata": {
    "kernelspec": {
      "display_name": "Python 3.10.6 ('venv': venv)",
      "language": "python",
      "name": "python3"
    },
    "language_info": {
      "codemirror_mode": {
        "name": "ipython",
        "version": 3
      },
      "file_extension": ".py",
      "mimetype": "text/x-python",
      "name": "python",
      "nbconvert_exporter": "python",
      "pygments_lexer": "ipython3",
      "version": "3.10.6"
    },
    "orig_nbformat": 4,
    "vscode": {
      "interpreter": {
        "hash": "cc788b38d8cb434c82f45ef9d481d0310e17b79321e4c8cbfbfe90f656a3f023"
      }
    },
    "colab": {
      "provenance": []
    }
  },
  "nbformat": 4,
  "nbformat_minor": 0
}